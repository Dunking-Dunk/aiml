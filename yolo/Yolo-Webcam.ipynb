{
 "cells": [
  {
   "cell_type": "code",
   "execution_count": 1,
   "metadata": {},
   "outputs": [],
   "source": [
    "from ultralytics import YOLO\n",
    "import cv2 as cv\n",
    "import cvzone\n",
    "import math\n",
    "\n",
    "className = [\"person\" ,\"bicycle\" ,\"car\" ,\"motorcycle\" ,\"airplane\" ,\"bus\" ,\"train\" ,\"truck\" ,\"boat\" ,\"traffic light\"\n",
    ",\"fire hydrant\" ,\"stop sign\" ,\"parking meter\" ,\"bench\" ,\"bird\" ,\"cat\" ,\"dog\" ,\"horse\" ,\"sheep\" ,\"cow\" ,\"elephant\" ,\"bear\" ,\"zebra\" ,\"giraffe\" ,\"backpack\" ,\"umbrella\" ,\"handbag\" ,\"tie\" ,\"suitcase\" ,\"frisbee\" ,\"skis\" ,\"snowboard\" ,\"sports ball\" ,\"kite\" ,\"baseball bat\" ,\"baseball glove\" ,\"skateboard\" ,\"surfboard\" ,\"tennis racket\" ,\"bottle\" ,\"wine glass\" ,\"cup\" ,\"fork\" ,\"knife\" ,\"spoon\" ,\"bowl\" ,\"banana\" ,\"apple\" ,\"sandwich\" ,\"orange\" ,\"broccoli\" ,\"carrot\" ,\"hot dog\" ,\"pizza\" ,\"donut\" ,\"cake\" ,\"chair\" ,\"couch\" ,\"potted plant\" ,\"bed\" ,\"dining table\" ,\"toilet\" ,\"tv\" ,\"laptop\" ,\"mouse\" ,\"remote\" ,\"keyboard\" ,\"cell phone\" ,\"microwave\" ,\"oven\" ,\"toaster\" ,\"sink\" ,\"refrigerator\" ,\"book\" ,\"clock\" ,\"vase\" ,\"scissors\" ,\"teddy bear\" ,\"hair drier\" ,\"toothbrush\"\n",
    "]"
   ]
  },
  {
   "cell_type": "code",
   "execution_count": 2,
   "metadata": {},
   "outputs": [
    {
     "name": "stderr",
     "output_type": "stream",
     "text": [
      "\n",
      "0: 480x640 (no detections), 32.1ms\n",
      "Speed: 7.0ms preprocess, 32.1ms inference, 12.1ms postprocess per image at shape (1, 3, 480, 640)\n"
     ]
    },
    {
     "ename": "KeyboardInterrupt",
     "evalue": "",
     "output_type": "error",
     "traceback": [
      "\u001b[1;31m---------------------------------------------------------------------------\u001b[0m",
      "\u001b[1;31mKeyboardInterrupt\u001b[0m                         Traceback (most recent call last)",
      "\u001b[1;32me:\\coding\\pythonLearning\\MachineLearning\\code\\yolo\\Yolo-Webcam.ipynb Cell 2\u001b[0m line \u001b[0;36m2\n\u001b[0;32m     <a href='vscode-notebook-cell:/e%3A/coding/pythonLearning/MachineLearning/code/yolo/Yolo-Webcam.ipynb#W1sZmlsZQ%3D%3D?line=23'>24</a>\u001b[0m         cvzone\u001b[39m.\u001b[39mcornerRect(img, (x1,y1,w,h))\n\u001b[0;32m     <a href='vscode-notebook-cell:/e%3A/coding/pythonLearning/MachineLearning/code/yolo/Yolo-Webcam.ipynb#W1sZmlsZQ%3D%3D?line=26'>27</a>\u001b[0m cv\u001b[39m.\u001b[39mimshow(\u001b[39m\"\u001b[39m\u001b[39mImage\u001b[39m\u001b[39m\"\u001b[39m, img)\n\u001b[1;32m---> <a href='vscode-notebook-cell:/e%3A/coding/pythonLearning/MachineLearning/code/yolo/Yolo-Webcam.ipynb#W1sZmlsZQ%3D%3D?line=27'>28</a>\u001b[0m cv\u001b[39m.\u001b[39;49mwaitKey(\u001b[39m0\u001b[39;49m)\n",
      "\u001b[1;31mKeyboardInterrupt\u001b[0m: "
     ]
    },
    {
     "ename": "",
     "evalue": "",
     "output_type": "error",
     "traceback": [
      "\u001b[1;31mThe Kernel crashed while executing code in the the current cell or a previous cell. Please review the code in the cell(s) to identify a possible cause of the failure. Click <a href='https://aka.ms/vscodeJupyterKernelCrash'>here</a> for more info. View Jupyter <a href='command:jupyter.viewOutput'>log</a> for further details."
     ]
    }
   ],
   "source": [
    "cap = cv.VideoCapture(1)\n",
    "cap.set(3, 1280)\n",
    "cap.set(4 ,720)\n",
    "model = YOLO('./Yolo-weights/yolov8l.pt')\n",
    "\n",
    "while True: \n",
    "    success, img = cap.read()\n",
    "    results = model(img, stream=True)\n",
    "    for i in results:\n",
    "        boxes = i.boxes\n",
    "        for box in boxes:\n",
    "            x1,y1,x2,y2 = box.xyxy[0]\n",
    "            x1,y1,x2,y2 = int(x1), int(y1),int(x2) ,int(y2)\n",
    "            w = x2-x1\n",
    "            h = y2-y1\n",
    "    \n",
    "            # cv.rectangle(img, (x1,y1), (x2,y2),(255,0,255),3)\n",
    "            conf = math.ceil((box.conf[0] * 100)) / 100\n",
    "           \n",
    "            cls = int(box.cls[0])\n",
    "            currentClass = className[cls]\n",
    "      \n",
    "            cvzone.putTextRect(img, f'{className[cls]} {conf}',(max(0,x1),max(35, y1-10)),  scale=0.7,thickness=1,offset=3)\n",
    "            cvzone.cornerRect(img, (x1,y1,w,h))\n",
    "\n",
    "\n",
    "    cv.imshow(\"Image\", img)\n",
    "    cv.waitKey(0)"
   ]
  },
  {
   "cell_type": "code",
   "execution_count": null,
   "metadata": {},
   "outputs": [],
   "source": []
  }
 ],
 "metadata": {
  "kernelspec": {
   "display_name": "Python 3",
   "language": "python",
   "name": "python3"
  },
  "language_info": {
   "codemirror_mode": {
    "name": "ipython",
    "version": 3
   },
   "file_extension": ".py",
   "mimetype": "text/x-python",
   "name": "python",
   "nbconvert_exporter": "python",
   "pygments_lexer": "ipython3",
   "version": "3.11.0"
  },
  "orig_nbformat": 4
 },
 "nbformat": 4,
 "nbformat_minor": 2
}
