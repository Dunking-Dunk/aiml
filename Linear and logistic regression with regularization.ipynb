{
 "cells": [
  {
   "cell_type": "code",
   "execution_count": 1,
   "id": "e7daf356",
   "metadata": {},
   "outputs": [],
   "source": [
    "import numpy as np"
   ]
  },
  {
   "cell_type": "code",
   "execution_count": 5,
   "id": "6eeacae9",
   "metadata": {},
   "outputs": [],
   "source": [
    "def compute_cost_linear(X,y,w,b, lambda_ = 1):\n",
    "    m,n = X.shape\n",
    "    cost = 0\n",
    "    \n",
    "    for i in range(m):\n",
    "        f_wb = np.dot(X[i, :], w) + b\n",
    "        f_wb_i = (f_wb - y[i]) ** 2\n",
    "        cost += f_wb_i\n",
    "    \n",
    "    cost = cost / (2 * m)\n",
    "    \n",
    "    reg_cost = 0\n",
    "    for i in range(n):\n",
    "        reg_cost += w[n] ** 2\n",
    "    \n",
    "    reg_cost = lambda_ / (2*m) * reg_cost\n",
    "    \n",
    "    total_cost = reg_cost + cost\n",
    "    \n",
    "    return total_cost"
   ]
  },
  {
   "cell_type": "code",
   "execution_count": 6,
   "id": "49d804d8",
   "metadata": {},
   "outputs": [],
   "source": [
    "def sigmoid(z):\n",
    "    return 1 /(1 + np.exp(-z))"
   ]
  },
  {
   "cell_type": "code",
   "execution_count": 8,
   "id": "fc78beee",
   "metadata": {},
   "outputs": [],
   "source": [
    "def compute_cost_logistic(X,y,w,b, lambda_ = 1):\n",
    "    m,n = X.shape\n",
    "    cost = 0\n",
    "    \n",
    "    for i in range(m):\n",
    "        z_i = np.dot(X[i, :], w) + b\n",
    "        f_wb_i = sigmoid(z_i)\n",
    "        cost += - y[i] * np.log(f_wb_i) - (1 - y[i]) * np.log(1-f_wb_i)\n",
    "    \n",
    "    cost = cost / m\n",
    "    \n",
    "    reg_cost = 0\n",
    "    for j in range(n):\n",
    "        reg_cost += w[j] ** 2\n",
    "    \n",
    "    reg_cost =  lambda_ / (2*m) * reg_cost\n",
    "    \n",
    "    total_cost = reg_cost + cost\n",
    "    \n",
    "    return total_cost"
   ]
  },
  {
   "cell_type": "code",
   "execution_count": 10,
   "id": "3a814ffc",
   "metadata": {},
   "outputs": [],
   "source": [
    "def compute_gradient_linear(X, y, w, b, lambda_ = 1):\n",
    "    m,n = X.shape\n",
    "    dj_dw = np.zeros((n,))\n",
    "    dj_db = 0\n",
    "    \n",
    "    for i in range(m):\n",
    "        f_wb = np.dot(w, X[i, :]) + b\n",
    "        err = f_wb - y[i]\n",
    "        for j in range(n):\n",
    "            dj_dw[j] += err * X[i,j]\n",
    "        dj_db += err\n",
    "    \n",
    "    dj_dw = dj_dw / m\n",
    "    dj_db = dj_db / m\n",
    "    \n",
    "    for j in range(n):\n",
    "        dj_dw[j] += lambda_ / m * w[j]\n",
    "    \n",
    "    return dj_dw, dj_db"
   ]
  },
  {
   "cell_type": "code",
   "execution_count": 11,
   "id": "bfbbaaec",
   "metadata": {},
   "outputs": [],
   "source": [
    "def compute_gradient_logistic(X, y, w, b, lambda_ = 1):\n",
    "    m,n = X.shape\n",
    "    dj_dw = np.zeros((n,))\n",
    "    dj_db = 0\n",
    "    \n",
    "    for i in range(m):\n",
    "        z_i = np.dot(w, X[i, :]) + b\n",
    "        f_wb_i = sigmoid(z_i)\n",
    "        err = f_wb_i - y[i]\n",
    "        for j in range(n):\n",
    "            dj_dw[j] += err * X[i,j]\n",
    "        dj_db += err\n",
    "    \n",
    "    dj_dw = dj_dw / m\n",
    "    dj_db = dj_db / m\n",
    "    \n",
    "    for j in range(n):\n",
    "        dj_dw[j] += lambda_ / m * w[j]\n",
    "    \n",
    "    return dj_dw, dj_db"
   ]
  },
  {
   "cell_type": "code",
   "execution_count": null,
   "id": "495f5637",
   "metadata": {},
   "outputs": [],
   "source": []
  }
 ],
 "metadata": {
  "kernelspec": {
   "display_name": "Python 3 (ipykernel)",
   "language": "python",
   "name": "python3"
  },
  "language_info": {
   "codemirror_mode": {
    "name": "ipython",
    "version": 3
   },
   "file_extension": ".py",
   "mimetype": "text/x-python",
   "name": "python",
   "nbconvert_exporter": "python",
   "pygments_lexer": "ipython3",
   "version": "3.11.4"
  }
 },
 "nbformat": 4,
 "nbformat_minor": 5
}
