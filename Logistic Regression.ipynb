{
 "cells": [
  {
   "cell_type": "code",
   "execution_count": 2,
   "id": "497435d3",
   "metadata": {},
   "outputs": [],
   "source": [
    "import numpy as np\n",
    "import matplotlib.pyplot as plt\n",
    "import math"
   ]
  },
  {
   "cell_type": "code",
   "execution_count": 17,
   "id": "f1a41025",
   "metadata": {},
   "outputs": [],
   "source": [
    "#test data\n",
    "X_train = np.array([[0.5, 1.5], [1,1], [1.5, 0.5], [3, 0.5], [2, 2], [1, 2.5]])\n",
    "y_train = np.array([0, 0, 0, 1, 1, 1])"
   ]
  },
  {
   "cell_type": "code",
   "execution_count": 18,
   "id": "dd2cb125",
   "metadata": {},
   "outputs": [],
   "source": [
    "#sigmoid function\n",
    "def sigmoid(z):\n",
    "    return 1 / (1 + np.exp(-z))"
   ]
  },
  {
   "cell_type": "code",
   "execution_count": 19,
   "id": "79e49a07",
   "metadata": {},
   "outputs": [],
   "source": [
    "def compute_cost(X,y,w,b):\n",
    "    m = X.shape[0]\n",
    "    cost = 0\n",
    "    for i in range(m):\n",
    "        z_i = np.dot(w,X[i,:]) + b\n",
    "        f_wb_i = sigmoid(z_i)\n",
    "        cost += -y[i]*np.log(f_wb_i) - (1 - y[i])*np.log(1 - f_wb_i)\n",
    "    cost = cost / m\n",
    "    return cost"
   ]
  },
  {
   "cell_type": "code",
   "execution_count": 33,
   "id": "6ff50d6b",
   "metadata": {},
   "outputs": [
    {
     "name": "stdout",
     "output_type": "stream",
     "text": [
      "0.7702827411458365\n"
     ]
    }
   ],
   "source": [
    "cost = compute_cost(X_train, y_train, [2,-1],-1)\n",
    "print(cost)"
   ]
  },
  {
   "cell_type": "code",
   "execution_count": 36,
   "id": "27676214",
   "metadata": {},
   "outputs": [],
   "source": [
    "def compute_gradient(X,y,w,b):\n",
    "    m,n = X.shape\n",
    "    dj_dw = np.zeros(n)\n",
    "    dj_db = 0\n",
    "    \n",
    "    for i in range(m):\n",
    "        z_i = np.dot(w,X[i,:]) + b\n",
    "        f_wb_i = sigmoid(z_i)\n",
    "        err = f_wb_i - y[i]\n",
    "        for j in range(n):\n",
    "            dj_dw[j] += err * X[i,j]\n",
    "        dj_db += err\n",
    "    dj_dw = dj_dw / m\n",
    "    dj_db = dj_db / m\n",
    "    \n",
    "    return  dj_dw,  dj_db"
   ]
  },
  {
   "cell_type": "code",
   "execution_count": 38,
   "id": "616231d3",
   "metadata": {},
   "outputs": [
    {
     "name": "stdout",
     "output_type": "stream",
     "text": [
      "[-0.25       -0.16666667] 0.0\n"
     ]
    }
   ],
   "source": [
    "dj_dw, dj_db = compute_gradient(X_train, y_train, [0,0], 0)\n",
    "print(dj_dw, dj_db)"
   ]
  },
  {
   "cell_type": "code",
   "execution_count": 80,
   "id": "7a8b4298",
   "metadata": {},
   "outputs": [],
   "source": [
    "def gradient_descent(X,y,alpha, num_iters, w_init, b_init):\n",
    "    w = w_init\n",
    "    b = b_init\n",
    "    j_history = []\n",
    "    \n",
    "    for i in range(num_iters):\n",
    "        dj_dw, dj_db = compute_gradient(X, y, w, b)\n",
    "        w = w - alpha * dj_dw\n",
    "        b = b - alpha * dj_db\n",
    "        if (i < 1000000):\n",
    "            j_history.append(compute_cost(X, y, w,b))\n",
    "        if i % math.ceil(num_iters/ 10) == 0:\n",
    "            print(f\"cost: {j_history[-1]:4.6f}, w: {w} , b: {b}\")\n",
    "       \n",
    "        \n",
    "    return w, b, j_history"
   ]
  },
  {
   "cell_type": "code",
   "execution_count": 87,
   "id": "0b8a5749",
   "metadata": {},
   "outputs": [
    {
     "name": "stdout",
     "output_type": "stream",
     "text": [
      "cost: 0.684610, w: [0.025      0.01666667] , b: 0.0\n",
      "cost: 0.159098, w: [2.30572624 2.07740353] , b: -5.910993301906599\n",
      "cost: 0.084601, w: [3.15508984 2.94023038] , b: -8.311492289992747\n",
      "cost: 0.057053, w: [3.68092411 3.47097047] , b: -9.782304238535813\n",
      "cost: 0.042908, w: [4.06024975 3.8527842 ] , b: -10.83864078095771\n",
      "cost: 0.034338, w: [4.35647898 4.15050189] , b: -11.661537885653816\n",
      "cost: 0.028604, w: [4.59929949 4.39430614] , b: -12.334999960928222\n",
      "cost: 0.024502, w: [4.80494417 4.6006459 ] , b: -12.904720255835345\n",
      "cost: 0.021424, w: [4.98324047 4.77945746] , b: -13.398265876886166\n",
      "cost: 0.019030, w: [5.14058319 4.93719618] , b: -13.833530467558626\n"
     ]
    }
   ],
   "source": [
    "w, b, j_hist = gradient_descent(X_train, y_train, 0.1,10000,[0,0], 0)"
   ]
  },
  {
   "cell_type": "code",
   "execution_count": 8,
   "id": "5b8026e2",
   "metadata": {},
   "outputs": [],
   "source": []
  }
 ],
 "metadata": {
  "kernelspec": {
   "display_name": "Python 3 (ipykernel)",
   "language": "python",
   "name": "python3"
  },
  "language_info": {
   "codemirror_mode": {
    "name": "ipython",
    "version": 3
   },
   "file_extension": ".py",
   "mimetype": "text/x-python",
   "name": "python",
   "nbconvert_exporter": "python",
   "pygments_lexer": "ipython3",
   "version": "3.11.0"
  }
 },
 "nbformat": 4,
 "nbformat_minor": 5
}
