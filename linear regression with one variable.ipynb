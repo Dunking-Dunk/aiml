{
 "cells": [
  {
   "cell_type": "markdown",
   "id": "b4220eb6",
   "metadata": {},
   "source": [
    "# Linear regression with one variable"
   ]
  },
  {
   "cell_type": "code",
   "execution_count": 127,
   "id": "cf4a7d8f",
   "metadata": {},
   "outputs": [],
   "source": [
    "import numpy as np\n",
    "import matplotlib.pyplot as plt\n",
    "import math as math"
   ]
  },
  {
   "cell_type": "code",
   "execution_count": 128,
   "id": "49033bb1",
   "metadata": {},
   "outputs": [],
   "source": [
    "x_train=np.array([2,3,5,6])\n",
    "y_train=np.array([350,400,600,800])"
   ]
  },
  {
   "cell_type": "code",
   "execution_count": 129,
   "id": "bb3aa0db",
   "metadata": {},
   "outputs": [
    {
     "data": {
      "text/plain": [
       "<matplotlib.legend.Legend at 0x245b1cd6150>"
      ]
     },
     "execution_count": 129,
     "metadata": {},
     "output_type": "execute_result"
    },
    {
     "data": {
      "image/png": "[encoded data removed]",
      "text/plain": [
       "<Figure size 640x480 with 1 Axes>"
      ]
     },
     "metadata": {},
     "output_type": "display_data"
    }
   ],
   "source": [
    "plt.scatter(x_train, y_train, label='crct', marker='x')\n",
    "plt.xlabel('size in 1000 sqfeet')\n",
    "plt.ylabel('price in 1000 dollar')\n",
    "plt.legend()"
   ]
  },
  {
   "cell_type": "code",
   "execution_count": 130,
   "id": "c48d2796",
   "metadata": {},
   "outputs": [
    {
     "name": "stdout",
     "output_type": "stream",
     "text": [
      "600\n"
     ]
    }
   ],
   "source": [
    "def linear_reg(w,x,b):\n",
    "    return w * x + b\n",
    "\n",
    "print(f_wb(100,x_train[2], 100))"
   ]
  },
  {
   "cell_type": "markdown",
   "id": "5847e84a",
   "metadata": {},
   "source": [
    "# cost function j(w,b)"
   ]
  },
  {
   "cell_type": "code",
   "execution_count": 131,
   "id": "b2cb2d6c",
   "metadata": {},
   "outputs": [],
   "source": [
    "def compute_cost(x,y,w,b):\n",
    "    m = x.shape[0]\n",
    "    total_cost=0\n",
    "    for i in range(m):\n",
    "        f_wb = w * x[i] + b\n",
    "        total_cost += (f_wb - y[i]) ** 2\n",
    "    total_cost= 1/(2 * m) * total_cost\n",
    "    return total_cost"
   ]
  },
  {
   "cell_type": "code",
   "execution_count": 132,
   "id": "df464f0c",
   "metadata": {},
   "outputs": [
    {
     "name": "stdout",
     "output_type": "stream",
     "text": [
      "1562.5\n"
     ]
    }
   ],
   "source": [
    "cost = compute_cost(x_train,y_train, 100, 100)\n",
    "print(cost)"
   ]
  },
  {
   "cell_type": "markdown",
   "id": "94f54791",
   "metadata": {},
   "source": [
    "# compute gradient dj_dw and dj_db"
   ]
  },
  {
   "cell_type": "code",
   "execution_count": 133,
   "id": "8cd4fcba",
   "metadata": {},
   "outputs": [],
   "source": [
    "def compute_gradient(x, y, w,b):\n",
    "    m= x.shape[0]\n",
    "    dj_dw = 0\n",
    "    dj_db = 0\n",
    "    \n",
    "    for i in range(m):\n",
    "        f_wb = w * x[i] + b\n",
    "        dj_dw_i = (f_wb - y[i]) * x[i]\n",
    "        dj_db_i = f_wb - y[i]\n",
    "        dj_dw += dj_dw_i\n",
    "        dj_db += dj_db_i\n",
    "    \n",
    "    dj_dw = dj_dw / m\n",
    "    dj_db = dj_db / m\n",
    "    return dj_dw, dj_db"
   ]
  },
  {
   "cell_type": "code",
   "execution_count": 134,
   "id": "47221acd",
   "metadata": {},
   "outputs": [
    {
     "name": "stdout",
     "output_type": "stream",
     "text": [
      "-175.0 -37.5\n"
     ]
    }
   ],
   "source": [
    "w,b = compute_gradient(x_train, y_train,100,100)\n",
    "print(w, b)"
   ]
  },
  {
   "cell_type": "markdown",
   "id": "1135e756",
   "metadata": {},
   "source": [
    "# gradient_descent algorithm to find best parameter"
   ]
  },
  {
   "cell_type": "code",
   "execution_count": 135,
   "id": "6220a185",
   "metadata": {},
   "outputs": [],
   "source": [
    "def gradient_descent(x, y, iteration, alpha,w_init, b_init):\n",
    "    w = w_init\n",
    "    b = b_init\n",
    "    \n",
    "    j_history=[]\n",
    "    w_history=[]\n",
    "    \n",
    "    for i in range(iteration):\n",
    "        dj_dw,dj_db = compute_gradient(x_train, y_train,w,b)\n",
    "        w = w - alpha * dj_dw\n",
    "        b = b - alpha * dj_db\n",
    "        \n",
    "        if (i < 10000):\n",
    "            j_history.append(compute_cost(x, y, w,b))\n",
    "            w_history.append([w,b])\n",
    "        \n",
    "        if i % math.ceil(iteration/10) == 0:\n",
    "            print(f\"cost: {j_history[-1]:4.2f} {w_history[-1]}\")        \n",
    "    return w, b, j_history, w_history"
   ]
  },
  {
   "cell_type": "code",
   "execution_count": 136,
   "id": "cc7d1fd1",
   "metadata": {},
   "outputs": [
    {
     "name": "stdout",
     "output_type": "stream",
     "text": [
      "cost: 104592.59 [24.25, 5.375]\n",
      "cost: 991.12 [123.41971214303304, 35.86681577746124]\n",
      "cost: 932.68 [121.79389510998158, 43.33376307091246]\n",
      "cost: 887.54 [120.36504806629954, 49.89607914899977]\n",
      "cost: 852.68 [119.1093078592648, 55.663361369278135]\n",
      "cost: 825.75 [118.00570235121815, 60.73192920608281]\n",
      "cost: 804.95 [117.03580020858718, 65.18643289344531]\n",
      "cost: 788.88 [116.18340307988379, 69.10126717003179]\n",
      "cost: 776.48 [115.43427506677227, 72.54181374688518]\n",
      "cost: 766.89 [114.77590497009905, 75.56553324844722]\n",
      "final w 114.20 and b 78.20\n"
     ]
    }
   ],
   "source": [
    "x,y, j_hist, w_hist = gradient_descent(x_train,y_train, 1000, 0.01,0,0)\n",
    "print(f\"final w {x:4.2f} and b {y:4.2f}\")"
   ]
  }
 ],
 "metadata": {
  "kernelspec": {
   "display_name": "Python 3 (ipykernel)",
   "language": "python",
   "name": "python3"
  },
  "language_info": {
   "codemirror_mode": {
    "name": "ipython",
    "version": 3
   },
   "file_extension": ".py",
   "mimetype": "text/x-python",
   "name": "python",
   "nbconvert_exporter": "python",
   "pygments_lexer": "ipython3",
   "version": "3.11.4"
  }
 },
 "nbformat": 4,
 "nbformat_minor": 5
}
